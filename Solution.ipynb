{
 "cells": [
  {
   "cell_type": "markdown",
   "metadata": {},
   "source": [
    "В качестве датасета я выбрал Stroke Prediction Dataset: https://www.kaggle.com/datasets/fedesoriano/stroke-prediction-datase\n",
    "\n",
    "Вопрос медицины стоит очень остро, MachineLearning является топ кандидатом для решения задачи определения возможности инсульта у людей по некоторым признакам.\n",
    "\n",
    "Это задача бинарной классификации с двумя классами: инсульт вероятен, и инсульт не вероятен."
   ]
  },
  {
   "cell_type": "code",
   "execution_count": 24,
   "metadata": {},
   "outputs": [],
   "source": [
    "import scipy\n",
    "import pandas as pd\n",
    "import numpy as np\n",
    "import matplotlib.pyplot as plt\n",
    "import seaborn as sns\n",
    "import sklearn as sk\n",
    "from sklearn.utils import resample\n",
    "from sklearn.utils.estimator_checks import check_estimator\n",
    "from sklearn.utils.validation import check_X_y, check_array, check_is_fitted\n",
    "from sklearn.utils.multiclass import unique_labels\n",
    "from sklearn.metrics import euclidean_distances\n",
    "from sklearn.base import BaseEstimator, ClassifierMixin, TransformerMixin\n",
    "from sklearn.preprocessing import StandardScaler, PowerTransformer, LabelEncoder, OneHotEncoder, Normalizer\n",
    "from sklearn.pipeline import make_pipeline\n",
    "from sklearn.model_selection import GridSearchCV, cross_val_score\n",
    "from sklearn.compose import ColumnTransformer\n",
    "from sklearn.model_selection import train_test_split\n",
    "from sklearn.linear_model import (\n",
    "    LogisticRegression as skLogisticRegression,\n",
    ")\n",
    "from sklearn.naive_bayes import GaussianNB\n",
    "from sklearn.neighbors import KNeighborsClassifier\n",
    "from sklearn.svm import SVC\n",
    "from sklearn.metrics import (\n",
    "    accuracy_score,\n",
    "    recall_score,\n",
    "    precision_score,\n",
    "    roc_auc_score,\n",
    "    roc_curve,\n",
    "    plot_confusion_matrix,\n",
    ")"
   ]
  },
  {
   "cell_type": "code",
   "execution_count": 2,
   "metadata": {},
   "outputs": [],
   "source": [
    "data = pd.read_csv('healthcare-dataset-stroke-data.csv')"
   ]
  },
  {
   "cell_type": "markdown",
   "metadata": {},
   "source": [
    "Информация о признаках:\n",
    "\n",
    "1. id: unique identifier\n",
    "2. gender: \"Male\", \"Female\" or \"Other\"\n",
    "3. age: age of the patient\n",
    "4. hypertension: 0 if the patient doesn't have hypertension, 1 if the patient has hypertension\n",
    "5. heart_disease: 0 if the patient doesn't have any heart diseases, 1 if the patient has a heart disease\n",
    "6. ever_married: \"No\" or \"Yes\"\n",
    "7. work_type: \"children\", \"Govt_jov\", \"Never_worked\", \"Private\" or \"Self-employed\"\n",
    "8. Residence_type: \"Rural\" or \"Urban\"\n",
    "9. avg_glucose_level: average glucose level in blood\n",
    "10. bmi: body mass index\n",
    "11. smoking_status: \"formerly smoked\", \"never smoked\", \"smokes\" or \"Unknown\"*\n",
    "12. stroke: 1 if the patient had a stroke or 0 if not"
   ]
  },
  {
   "cell_type": "markdown",
   "metadata": {},
   "source": [
    "Задача:\n",
    "\n",
    "1. реализовать следующие алгоритмы машинного обучения: Linear/ Logistic Regression, SVM, KNN, Naive Bayes в отдельных классах \n",
    "2.  Данные классы должны наследоваться от BaseEstimator и  ClassifierMixin, иметь методы fit и predict (подробнее: https://scikit-learn.org/stable/developers/develop.html)\n",
    "3. Вы должны организовать весь процесс предобработки, обучения и тестирования с помощью Pipeline (подробнее: https://scikit-learn.org/stable/modules/compose.html)\n",
    "4. Вы должны настроить гиперпараметры моделей с помощью кросс валидации (GridSearchCV,RandomSearchCV, подробнее здесь: https://scikit-learn.org/stable/modules/grid_search.html), вывести и сохранить эти гиперпараметры в файл, вместе с обученными моделями\n",
    "5. Проделать аналогично с коробочными решениями\n",
    "6. Для каждой модели получить оценки метрик:Confusion Matrix,  Accuracy, Recall, Precision, ROC_AUC curve (подробнее: Hands on machine learning with python and scikit learn chapter 3, mlcourse.ai, https://ml-handbook.ru/chapters/model_evaluation/intro)\n",
    "7. Проанализировать полученные результаты и сделать выводы о применимости моделей\n",
    "8. Загрузить полученные гиперпараметры модели и обученные модели в формате pickle  на гит вместе с jupyter notebook ваших экспериментов"
   ]
  },
  {
   "cell_type": "code",
   "execution_count": 3,
   "metadata": {},
   "outputs": [
    {
     "data": {
      "text/html": [
       "<div>\n",
       "<style scoped>\n",
       "    .dataframe tbody tr th:only-of-type {\n",
       "        vertical-align: middle;\n",
       "    }\n",
       "\n",
       "    .dataframe tbody tr th {\n",
       "        vertical-align: top;\n",
       "    }\n",
       "\n",
       "    .dataframe thead th {\n",
       "        text-align: right;\n",
       "    }\n",
       "</style>\n",
       "<table border=\"1\" class=\"dataframe\">\n",
       "  <thead>\n",
       "    <tr style=\"text-align: right;\">\n",
       "      <th></th>\n",
       "      <th>gender</th>\n",
       "      <th>age</th>\n",
       "      <th>hypertension</th>\n",
       "      <th>heart_disease</th>\n",
       "      <th>ever_married</th>\n",
       "      <th>work_type</th>\n",
       "      <th>Residence_type</th>\n",
       "      <th>avg_glucose_level</th>\n",
       "      <th>bmi</th>\n",
       "      <th>smoking_status</th>\n",
       "      <th>stroke</th>\n",
       "    </tr>\n",
       "  </thead>\n",
       "  <tbody>\n",
       "    <tr>\n",
       "      <th>0</th>\n",
       "      <td>Male</td>\n",
       "      <td>67.0</td>\n",
       "      <td>0</td>\n",
       "      <td>1</td>\n",
       "      <td>Yes</td>\n",
       "      <td>Private</td>\n",
       "      <td>Urban</td>\n",
       "      <td>228.69</td>\n",
       "      <td>36.600000</td>\n",
       "      <td>formerly smoked</td>\n",
       "      <td>1</td>\n",
       "    </tr>\n",
       "    <tr>\n",
       "      <th>1</th>\n",
       "      <td>Female</td>\n",
       "      <td>61.0</td>\n",
       "      <td>0</td>\n",
       "      <td>0</td>\n",
       "      <td>Yes</td>\n",
       "      <td>Self-employed</td>\n",
       "      <td>Rural</td>\n",
       "      <td>202.21</td>\n",
       "      <td>28.893237</td>\n",
       "      <td>never smoked</td>\n",
       "      <td>1</td>\n",
       "    </tr>\n",
       "    <tr>\n",
       "      <th>2</th>\n",
       "      <td>Male</td>\n",
       "      <td>80.0</td>\n",
       "      <td>0</td>\n",
       "      <td>1</td>\n",
       "      <td>Yes</td>\n",
       "      <td>Private</td>\n",
       "      <td>Rural</td>\n",
       "      <td>105.92</td>\n",
       "      <td>32.500000</td>\n",
       "      <td>never smoked</td>\n",
       "      <td>1</td>\n",
       "    </tr>\n",
       "    <tr>\n",
       "      <th>3</th>\n",
       "      <td>Female</td>\n",
       "      <td>49.0</td>\n",
       "      <td>0</td>\n",
       "      <td>0</td>\n",
       "      <td>Yes</td>\n",
       "      <td>Private</td>\n",
       "      <td>Urban</td>\n",
       "      <td>171.23</td>\n",
       "      <td>34.400000</td>\n",
       "      <td>smokes</td>\n",
       "      <td>1</td>\n",
       "    </tr>\n",
       "    <tr>\n",
       "      <th>4</th>\n",
       "      <td>Female</td>\n",
       "      <td>79.0</td>\n",
       "      <td>1</td>\n",
       "      <td>0</td>\n",
       "      <td>Yes</td>\n",
       "      <td>Self-employed</td>\n",
       "      <td>Rural</td>\n",
       "      <td>174.12</td>\n",
       "      <td>24.000000</td>\n",
       "      <td>never smoked</td>\n",
       "      <td>1</td>\n",
       "    </tr>\n",
       "  </tbody>\n",
       "</table>\n",
       "</div>"
      ],
      "text/plain": [
       "   gender   age  hypertension  heart_disease ever_married      work_type  \\\n",
       "0    Male  67.0             0              1          Yes        Private   \n",
       "1  Female  61.0             0              0          Yes  Self-employed   \n",
       "2    Male  80.0             0              1          Yes        Private   \n",
       "3  Female  49.0             0              0          Yes        Private   \n",
       "4  Female  79.0             1              0          Yes  Self-employed   \n",
       "\n",
       "  Residence_type  avg_glucose_level        bmi   smoking_status  stroke  \n",
       "0          Urban             228.69  36.600000  formerly smoked       1  \n",
       "1          Rural             202.21  28.893237     never smoked       1  \n",
       "2          Rural             105.92  32.500000     never smoked       1  \n",
       "3          Urban             171.23  34.400000           smokes       1  \n",
       "4          Rural             174.12  24.000000     never smoked       1  "
      ]
     },
     "execution_count": 3,
     "metadata": {},
     "output_type": "execute_result"
    }
   ],
   "source": [
    "if 'id' in data:\n",
    "    data = data.drop('id', axis=1)\n",
    "data['bmi'].fillna(data['bmi'].mean(), inplace=True)\n",
    "data.head()"
   ]
  },
  {
   "cell_type": "code",
   "execution_count": 4,
   "metadata": {},
   "outputs": [],
   "source": [
    "\n",
    "# cols = data.columns.tolist()\n",
    "# categories= []\n",
    "# for col in cols:\n",
    "#     if data[col].dtype == 'object':\n",
    "#         categories.append(data[col].unique().tolist())\n",
    "# print(categories)\n",
    "# ct = ColumnTransformer(transformers=[\n",
    "#       ('categories', OneHotEncoder(sparse=False), [0, 4, 5, 6, 9]),\n",
    "#       ('normalizer', StandardScaler(), [1, 7, 8])\n",
    "# ])\n",
    "# dtrain = ct.fit_transform(data)\n",
    "# data.shape, dtrain.shape,\n",
    "# dtrain.categories_"
   ]
  },
  {
   "cell_type": "code",
   "execution_count": 5,
   "metadata": {},
   "outputs": [],
   "source": [
    "train_data, test_data, train_labels, test_labels = train_test_split(\n",
    "    data.drop(columns='stroke'), data['stroke'], train_size=0.8, random_state=42, shuffle=True\n",
    ")"
   ]
  },
  {
   "cell_type": "code",
   "execution_count": 6,
   "metadata": {},
   "outputs": [
    {
     "data": {
      "text/plain": [
       "0    3901\n",
       "1     374\n",
       "Name: stroke, dtype: int64"
      ]
     },
     "execution_count": 6,
     "metadata": {},
     "output_type": "execute_result"
    }
   ],
   "source": [
    "df = train_data.copy()\n",
    "df['stroke'] = train_labels\n",
    "\n",
    "df_majority = df[df['stroke']==0]\n",
    "df_minority = df[df['stroke']==1]\n",
    " \n",
    "df_minority_upsampled = resample(\n",
    "    df_minority, replace=True, n_samples=len(df_minority) * 2, random_state=123\n",
    ")\n",
    "# df_majority_downsampled = resample(\n",
    "#     df_majority, replace=True, n_samples=len(df_majority) - 500, random_state=123\n",
    "# )\n",
    "\n",
    "train_df = pd.concat([df_minority_upsampled, df_majority])\n",
    "\n",
    "train_df.stroke.value_counts()"
   ]
  },
  {
   "cell_type": "code",
   "execution_count": 7,
   "metadata": {},
   "outputs": [],
   "source": [
    "train_data, train_labels = train_df.drop(columns='stroke'), train_df['stroke']"
   ]
  },
  {
   "cell_type": "markdown",
   "metadata": {},
   "source": [
    "Импорты:"
   ]
  },
  {
   "cell_type": "code",
   "execution_count": 8,
   "metadata": {},
   "outputs": [],
   "source": [
    "import itertools\n",
    "import warnings\n",
    "import pickle\n",
    "\n",
    "warnings.filterwarnings(\"ignore\", category=FutureWarning) "
   ]
  },
  {
   "cell_type": "markdown",
   "metadata": {},
   "source": [
    "Вспомогательные функции:"
   ]
  },
  {
   "cell_type": "code",
   "execution_count": 9,
   "metadata": {},
   "outputs": [],
   "source": [
    "def batches(X, y, size):\n",
    "    for pos in range(len(X), size):\n",
    "        yield X[pos:pos + size], y[pos:pos + size]\n",
    "\n",
    "def sigmoid(vec: np.ndarray) -> np.ndarray:\n",
    "    return 1.0 / (1.0 + np.exp(-vec))"
   ]
  },
  {
   "cell_type": "markdown",
   "metadata": {},
   "source": [
    "Реализуем Logistic Regression:"
   ]
  },
  {
   "cell_type": "code",
   "execution_count": 10,
   "metadata": {},
   "outputs": [],
   "source": [
    "class LogisticRegression(BaseEstimator, ClassifierMixin):\n",
    "    def __init__(\n",
    "        self, \n",
    "        lr: float = 1e-3,\n",
    "        batch_size: int = 100,\n",
    "        max_iter: int = 200,\n",
    "        C: float = 0.1,\n",
    "        bound: float = 0.5,\n",
    "    ):\n",
    "        self.lr = lr\n",
    "        self.batch_size = batch_size\n",
    "        self.max_iter = max_iter\n",
    "        self.C = C\n",
    "        self.bound = bound\n",
    "\n",
    "    def _fit(self, X, y):\n",
    "        self.X_, self.y_ = X, y\n",
    "        w, b = np.random.normal(size=(X.shape[1], )), 0.0\n",
    "        for _, bX, by in itertools.product(\n",
    "            range(self.max_iter), batches(X, y, self.batch_size)\n",
    "        ):\n",
    "            logor = sigmoid(bX @ w + b)\n",
    "            w -= (self.lr * bX.T @ (logor - by) + w / self.C) / self.batch_size\n",
    "            b -= self.lr * np.sum(logor - by) / self.batch_size\n",
    "        self.w, self.b = w, b\n",
    "        return self\n",
    "\n",
    "    def fit(self, X, y):\n",
    "        X, y = check_X_y(X, y)\n",
    "        self.classes_ = unique_labels(y)\n",
    "        return self._fit(X, y)\n",
    "\n",
    "    def decision_function(self, X):\n",
    "        check_is_fitted(self)\n",
    "        X =  check_array(X)\n",
    "        X = X @ self.w + self.b\n",
    "        # print('decision.shape:', X.shape)\n",
    "        return X\n",
    "    \n",
    "    def predict_proba(self, X):\n",
    "        return sigmoid(self.decision_function(X))\n",
    "\n",
    "    def predict(self, X):\n",
    "        vec = self.predict_proba(X)\n",
    "        # print('vec head:', vec[:5])\n",
    "        res = np.where(vec > self.bound, 1, 0 )\n",
    "        # print('res head: ', res[:5])\n",
    "        return res"
   ]
  },
  {
   "cell_type": "markdown",
   "metadata": {},
   "source": [
    "Создадим pipeline и сделаем GridSearchCV для перебора гиперпараметров:"
   ]
  },
  {
   "cell_type": "code",
   "execution_count": 11,
   "metadata": {},
   "outputs": [],
   "source": [
    "model = GridSearchCV(\n",
    "    refit=True,\n",
    "    scoring='roc_auc',\n",
    "    verbose=3,\n",
    "    estimator=make_pipeline(\n",
    "        ColumnTransformer(transformers=[\n",
    "            ('categories', OneHotEncoder(sparse=False, handle_unknown='ignore'), [0, 4, 5, 6, 9]),\n",
    "            ('normalizer', StandardScaler(), [1, 7, 8])\n",
    "        ]),\n",
    "        PowerTransformer(standardize=True),\n",
    "        LogisticRegression(),\n",
    "    ),\n",
    "    param_grid={\n",
    "        'logisticregression__max_iter': [100],\n",
    "        'logisticregression__bound': [0.5, 0.7, 0.9],\n",
    "        'logisticregression__lr': [1e-04, 1e-03, 1e-02, 1e-01],\n",
    "        'logisticregression__C': [1.0, 5.0, 7.5, 10.0],\n",
    "        'logisticregression__batch_size': [64],\n",
    "    },\n",
    "    n_jobs=-1,\n",
    ")"
   ]
  },
  {
   "cell_type": "code",
   "execution_count": 12,
   "metadata": {},
   "outputs": [],
   "source": [
    "orig_model = GridSearchCV(\n",
    "    refit=True,\n",
    "    scoring='roc_auc',\n",
    "    verbose=0,\n",
    "    estimator=make_pipeline(\n",
    "        ColumnTransformer(transformers=[\n",
    "            ('categories', OneHotEncoder(sparse=False, handle_unknown='ignore'), [0, 4, 5, 6, 9]),\n",
    "            ('normalizer', StandardScaler(), [1, 7, 8])\n",
    "        ]),\n",
    "        PowerTransformer(standardize=True),\n",
    "        skLogisticRegression(),\n",
    "    ),\n",
    "    param_grid={\n",
    "        'logisticregression__max_iter': [100],\n",
    "        'logisticregression__class_weight': ['balanced'],\n",
    "        'logisticregression__tol': [1e-04, 1e-03, 1e-02],\n",
    "        'logisticregression__C': [1e-1, 1.0, 10.0],\n",
    "    },\n",
    "    n_jobs=1,\n",
    ")"
   ]
  },
  {
   "cell_type": "code",
   "execution_count": 14,
   "metadata": {},
   "outputs": [
    {
     "name": "stdout",
     "output_type": "stream",
     "text": [
      "Fitting 5 folds for each of 48 candidates, totalling 240 fits\n"
     ]
    }
   ],
   "source": [
    "model.fit(train_data, train_labels)\n",
    "with open('logreg_model.pkl', 'wb') as file:\n",
    "    pickle.dump(model.best_estimator_, file)"
   ]
  },
  {
   "cell_type": "code",
   "execution_count": null,
   "metadata": {},
   "outputs": [
    {
     "data": {
      "text/plain": [
       "{'logisticregression__C': 10.0,\n",
       " 'logisticregression__batch_size': 64,\n",
       " 'logisticregression__bound': 0.9,\n",
       " 'logisticregression__lr': 0.01,\n",
       " 'logisticregression__max_iter': 100}"
      ]
     },
     "execution_count": 106,
     "metadata": {},
     "output_type": "execute_result"
    }
   ],
   "source": [
    "model.best_params_"
   ]
  },
  {
   "cell_type": "code",
   "execution_count": null,
   "metadata": {},
   "outputs": [
    {
     "data": {
      "text/plain": [
       "<sklearn.metrics._plot.confusion_matrix.ConfusionMatrixDisplay at 0x27ed10d7f70>"
      ]
     },
     "execution_count": 105,
     "metadata": {},
     "output_type": "execute_result"
    },
    {
     "data": {
      "image/png": "[encoded data removed]",
      "text/plain": [
       "<Figure size 432x288 with 2 Axes>"
      ]
     },
     "metadata": {
      "needs_background": "light"
     },
     "output_type": "display_data"
    }
   ],
   "source": [
    "plot_confusion_matrix(estimator=model, X=test_data, y_true=test_labels)"
   ]
  },
  {
   "cell_type": "markdown",
   "metadata": {},
   "source": [
    "Посмотрим на алгоритм из коробки:"
   ]
  },
  {
   "cell_type": "code",
   "execution_count": null,
   "metadata": {},
   "outputs": [
    {
     "data": {
      "text/html": [
       "<style>#sk-container-id-5 {color: black;background-color: white;}#sk-container-id-5 pre{padding: 0;}#sk-container-id-5 div.sk-toggleable {background-color: white;}#sk-container-id-5 label.sk-toggleable__label {cursor: pointer;display: block;width: 100%;margin-bottom: 0;padding: 0.3em;box-sizing: border-box;text-align: center;}#sk-container-id-5 label.sk-toggleable__label-arrow:before {content: \"▸\";float: left;margin-right: 0.25em;color: #696969;}#sk-container-id-5 label.sk-toggleable__label-arrow:hover:before {color: black;}#sk-container-id-5 div.sk-estimator:hover label.sk-toggleable__label-arrow:before {color: black;}#sk-container-id-5 div.sk-toggleable__content {max-height: 0;max-width: 0;overflow: hidden;text-align: left;background-color: #f0f8ff;}#sk-container-id-5 div.sk-toggleable__content pre {margin: 0.2em;color: black;border-radius: 0.25em;background-color: #f0f8ff;}#sk-container-id-5 input.sk-toggleable__control:checked~div.sk-toggleable__content {max-height: 200px;max-width: 100%;overflow: auto;}#sk-container-id-5 input.sk-toggleable__control:checked~label.sk-toggleable__label-arrow:before {content: \"▾\";}#sk-container-id-5 div.sk-estimator input.sk-toggleable__control:checked~label.sk-toggleable__label {background-color: #d4ebff;}#sk-container-id-5 div.sk-label input.sk-toggleable__control:checked~label.sk-toggleable__label {background-color: #d4ebff;}#sk-container-id-5 input.sk-hidden--visually {border: 0;clip: rect(1px 1px 1px 1px);clip: rect(1px, 1px, 1px, 1px);height: 1px;margin: -1px;overflow: hidden;padding: 0;position: absolute;width: 1px;}#sk-container-id-5 div.sk-estimator {font-family: monospace;background-color: #f0f8ff;border: 1px dotted black;border-radius: 0.25em;box-sizing: border-box;margin-bottom: 0.5em;}#sk-container-id-5 div.sk-estimator:hover {background-color: #d4ebff;}#sk-container-id-5 div.sk-parallel-item::after {content: \"\";width: 100%;border-bottom: 1px solid gray;flex-grow: 1;}#sk-container-id-5 div.sk-label:hover label.sk-toggleable__label {background-color: #d4ebff;}#sk-container-id-5 div.sk-serial::before {content: \"\";position: absolute;border-left: 1px solid gray;box-sizing: border-box;top: 0;bottom: 0;left: 50%;z-index: 0;}#sk-container-id-5 div.sk-serial {display: flex;flex-direction: column;align-items: center;background-color: white;padding-right: 0.2em;padding-left: 0.2em;position: relative;}#sk-container-id-5 div.sk-item {position: relative;z-index: 1;}#sk-container-id-5 div.sk-parallel {display: flex;align-items: stretch;justify-content: center;background-color: white;position: relative;}#sk-container-id-5 div.sk-item::before, #sk-container-id-5 div.sk-parallel-item::before {content: \"\";position: absolute;border-left: 1px solid gray;box-sizing: border-box;top: 0;bottom: 0;left: 50%;z-index: -1;}#sk-container-id-5 div.sk-parallel-item {display: flex;flex-direction: column;z-index: 1;position: relative;background-color: white;}#sk-container-id-5 div.sk-parallel-item:first-child::after {align-self: flex-end;width: 50%;}#sk-container-id-5 div.sk-parallel-item:last-child::after {align-self: flex-start;width: 50%;}#sk-container-id-5 div.sk-parallel-item:only-child::after {width: 0;}#sk-container-id-5 div.sk-dashed-wrapped {border: 1px dashed gray;margin: 0 0.4em 0.5em 0.4em;box-sizing: border-box;padding-bottom: 0.4em;background-color: white;}#sk-container-id-5 div.sk-label label {font-family: monospace;font-weight: bold;display: inline-block;line-height: 1.2em;}#sk-container-id-5 div.sk-label-container {text-align: center;}#sk-container-id-5 div.sk-container {/* jupyter's `normalize.less` sets `[hidden] { display: none; }` but bootstrap.min.css set `[hidden] { display: none !important; }` so we also need the `!important` here to be able to override the default hidden behavior on the sphinx rendered scikit-learn.org. See: https://github.com/scikit-learn/scikit-learn/issues/21755 */display: inline-block !important;position: relative;}#sk-container-id-5 div.sk-text-repr-fallback {display: none;}</style><div id=\"sk-container-id-5\" class=\"sk-top-container\"><div class=\"sk-text-repr-fallback\"><pre>GridSearchCV(estimator=Pipeline(steps=[(&#x27;columntransformer&#x27;,\n",
       "                                        ColumnTransformer(transformers=[(&#x27;categories&#x27;,\n",
       "                                                                         OneHotEncoder(handle_unknown=&#x27;ignore&#x27;,\n",
       "                                                                                       sparse=False),\n",
       "                                                                         [0, 4,\n",
       "                                                                          5, 6,\n",
       "                                                                          9]),\n",
       "                                                                        (&#x27;normalizer&#x27;,\n",
       "                                                                         StandardScaler(),\n",
       "                                                                         [1, 7,\n",
       "                                                                          8])])),\n",
       "                                       (&#x27;powertransformer&#x27;, PowerTransformer()),\n",
       "                                       (&#x27;logisticregression&#x27;,\n",
       "                                        LogisticRegression())]),\n",
       "             n_jobs=1,\n",
       "             param_grid={&#x27;logisticregression__C&#x27;: [0.1, 1.0, 10.0],\n",
       "                         &#x27;logisticregression__class_weight&#x27;: [&#x27;balanced&#x27;],\n",
       "                         &#x27;logisticregression__max_iter&#x27;: [100],\n",
       "                         &#x27;logisticregression__tol&#x27;: [0.0001, 0.001, 0.01]},\n",
       "             scoring=&#x27;recall&#x27;)</pre><b>In a Jupyter environment, please rerun this cell to show the HTML representation or trust the notebook. <br />On GitHub, the HTML representation is unable to render, please try loading this page with nbviewer.org.</b></div><div class=\"sk-container\" hidden><div class=\"sk-item sk-dashed-wrapped\"><div class=\"sk-label-container\"><div class=\"sk-label sk-toggleable\"><input class=\"sk-toggleable__control sk-hidden--visually\" id=\"sk-estimator-id-37\" type=\"checkbox\" ><label for=\"sk-estimator-id-37\" class=\"sk-toggleable__label sk-toggleable__label-arrow\">GridSearchCV</label><div class=\"sk-toggleable__content\"><pre>GridSearchCV(estimator=Pipeline(steps=[(&#x27;columntransformer&#x27;,\n",
       "                                        ColumnTransformer(transformers=[(&#x27;categories&#x27;,\n",
       "                                                                         OneHotEncoder(handle_unknown=&#x27;ignore&#x27;,\n",
       "                                                                                       sparse=False),\n",
       "                                                                         [0, 4,\n",
       "                                                                          5, 6,\n",
       "                                                                          9]),\n",
       "                                                                        (&#x27;normalizer&#x27;,\n",
       "                                                                         StandardScaler(),\n",
       "                                                                         [1, 7,\n",
       "                                                                          8])])),\n",
       "                                       (&#x27;powertransformer&#x27;, PowerTransformer()),\n",
       "                                       (&#x27;logisticregression&#x27;,\n",
       "                                        LogisticRegression())]),\n",
       "             n_jobs=1,\n",
       "             param_grid={&#x27;logisticregression__C&#x27;: [0.1, 1.0, 10.0],\n",
       "                         &#x27;logisticregression__class_weight&#x27;: [&#x27;balanced&#x27;],\n",
       "                         &#x27;logisticregression__max_iter&#x27;: [100],\n",
       "                         &#x27;logisticregression__tol&#x27;: [0.0001, 0.001, 0.01]},\n",
       "             scoring=&#x27;recall&#x27;)</pre></div></div></div><div class=\"sk-parallel\"><div class=\"sk-parallel-item\"><div class=\"sk-item\"><div class=\"sk-label-container\"><div class=\"sk-label sk-toggleable\"><input class=\"sk-toggleable__control sk-hidden--visually\" id=\"sk-estimator-id-38\" type=\"checkbox\" ><label for=\"sk-estimator-id-38\" class=\"sk-toggleable__label sk-toggleable__label-arrow\">estimator: Pipeline</label><div class=\"sk-toggleable__content\"><pre>Pipeline(steps=[(&#x27;columntransformer&#x27;,\n",
       "                 ColumnTransformer(transformers=[(&#x27;categories&#x27;,\n",
       "                                                  OneHotEncoder(handle_unknown=&#x27;ignore&#x27;,\n",
       "                                                                sparse=False),\n",
       "                                                  [0, 4, 5, 6, 9]),\n",
       "                                                 (&#x27;normalizer&#x27;,\n",
       "                                                  StandardScaler(),\n",
       "                                                  [1, 7, 8])])),\n",
       "                (&#x27;powertransformer&#x27;, PowerTransformer()),\n",
       "                (&#x27;logisticregression&#x27;, LogisticRegression())])</pre></div></div></div><div class=\"sk-serial\"><div class=\"sk-item\"><div class=\"sk-serial\"><div class=\"sk-item sk-dashed-wrapped\"><div class=\"sk-label-container\"><div class=\"sk-label sk-toggleable\"><input class=\"sk-toggleable__control sk-hidden--visually\" id=\"sk-estimator-id-39\" type=\"checkbox\" ><label for=\"sk-estimator-id-39\" class=\"sk-toggleable__label sk-toggleable__label-arrow\">columntransformer: ColumnTransformer</label><div class=\"sk-toggleable__content\"><pre>ColumnTransformer(transformers=[(&#x27;categories&#x27;,\n",
       "                                 OneHotEncoder(handle_unknown=&#x27;ignore&#x27;,\n",
       "                                               sparse=False),\n",
       "                                 [0, 4, 5, 6, 9]),\n",
       "                                (&#x27;normalizer&#x27;, StandardScaler(), [1, 7, 8])])</pre></div></div></div><div class=\"sk-parallel\"><div class=\"sk-parallel-item\"><div class=\"sk-item\"><div class=\"sk-label-container\"><div class=\"sk-label sk-toggleable\"><input class=\"sk-toggleable__control sk-hidden--visually\" id=\"sk-estimator-id-40\" type=\"checkbox\" ><label for=\"sk-estimator-id-40\" class=\"sk-toggleable__label sk-toggleable__label-arrow\">categories</label><div class=\"sk-toggleable__content\"><pre>[0, 4, 5, 6, 9]</pre></div></div></div><div class=\"sk-serial\"><div class=\"sk-item\"><div class=\"sk-estimator sk-toggleable\"><input class=\"sk-toggleable__control sk-hidden--visually\" id=\"sk-estimator-id-41\" type=\"checkbox\" ><label for=\"sk-estimator-id-41\" class=\"sk-toggleable__label sk-toggleable__label-arrow\">OneHotEncoder</label><div class=\"sk-toggleable__content\"><pre>OneHotEncoder(handle_unknown=&#x27;ignore&#x27;, sparse=False)</pre></div></div></div></div></div></div><div class=\"sk-parallel-item\"><div class=\"sk-item\"><div class=\"sk-label-container\"><div class=\"sk-label sk-toggleable\"><input class=\"sk-toggleable__control sk-hidden--visually\" id=\"sk-estimator-id-42\" type=\"checkbox\" ><label for=\"sk-estimator-id-42\" class=\"sk-toggleable__label sk-toggleable__label-arrow\">normalizer</label><div class=\"sk-toggleable__content\"><pre>[1, 7, 8]</pre></div></div></div><div class=\"sk-serial\"><div class=\"sk-item\"><div class=\"sk-estimator sk-toggleable\"><input class=\"sk-toggleable__control sk-hidden--visually\" id=\"sk-estimator-id-43\" type=\"checkbox\" ><label for=\"sk-estimator-id-43\" class=\"sk-toggleable__label sk-toggleable__label-arrow\">StandardScaler</label><div class=\"sk-toggleable__content\"><pre>StandardScaler()</pre></div></div></div></div></div></div></div></div><div class=\"sk-item\"><div class=\"sk-estimator sk-toggleable\"><input class=\"sk-toggleable__control sk-hidden--visually\" id=\"sk-estimator-id-44\" type=\"checkbox\" ><label for=\"sk-estimator-id-44\" class=\"sk-toggleable__label sk-toggleable__label-arrow\">PowerTransformer</label><div class=\"sk-toggleable__content\"><pre>PowerTransformer()</pre></div></div></div><div class=\"sk-item\"><div class=\"sk-estimator sk-toggleable\"><input class=\"sk-toggleable__control sk-hidden--visually\" id=\"sk-estimator-id-45\" type=\"checkbox\" ><label for=\"sk-estimator-id-45\" class=\"sk-toggleable__label sk-toggleable__label-arrow\">LogisticRegression</label><div class=\"sk-toggleable__content\"><pre>LogisticRegression()</pre></div></div></div></div></div></div></div></div></div></div></div></div>"
      ],
      "text/plain": [
       "GridSearchCV(estimator=Pipeline(steps=[('columntransformer',\n",
       "                                        ColumnTransformer(transformers=[('categories',\n",
       "                                                                         OneHotEncoder(handle_unknown='ignore',\n",
       "                                                                                       sparse=False),\n",
       "                                                                         [0, 4,\n",
       "                                                                          5, 6,\n",
       "                                                                          9]),\n",
       "                                                                        ('normalizer',\n",
       "                                                                         StandardScaler(),\n",
       "                                                                         [1, 7,\n",
       "                                                                          8])])),\n",
       "                                       ('powertransformer', PowerTransformer()),\n",
       "                                       ('logisticregression',\n",
       "                                        LogisticRegression())]),\n",
       "             n_jobs=1,\n",
       "             param_grid={'logisticregression__C': [0.1, 1.0, 10.0],\n",
       "                         'logisticregression__class_weight': ['balanced'],\n",
       "                         'logisticregression__max_iter': [100],\n",
       "                         'logisticregression__tol': [0.0001, 0.001, 0.01]},\n",
       "             scoring='recall')"
      ]
     },
     "execution_count": 86,
     "metadata": {},
     "output_type": "execute_result"
    }
   ],
   "source": [
    "orig_model.fit(train_data, train_labels)"
   ]
  },
  {
   "cell_type": "code",
   "execution_count": null,
   "metadata": {},
   "outputs": [
    {
     "data": {
      "text/plain": [
       "<sklearn.metrics._plot.confusion_matrix.ConfusionMatrixDisplay at 0x27ed8ab8bb0>"
      ]
     },
     "execution_count": 87,
     "metadata": {},
     "output_type": "execute_result"
    },
    {
     "data": {
      "image/png": "[encoded data removed]",
      "text/plain": [
       "<Figure size 432x288 with 2 Axes>"
      ]
     },
     "metadata": {
      "needs_background": "light"
     },
     "output_type": "display_data"
    }
   ],
   "source": [
    "plot_confusion_matrix(estimator=orig_model, X=test_data, y_true=test_labels)"
   ]
  },
  {
   "cell_type": "code",
   "execution_count": null,
   "metadata": {},
   "outputs": [
    {
     "name": "stdout",
     "output_type": "stream",
     "text": [
      "recall: 1.0, 0.7741935483870968\n",
      "precision: 0.09408194233687406, 0.17142857142857143\n",
      "accuracy: 0.4158512720156556, 0.7592954990215264\n"
     ]
    }
   ],
   "source": [
    "print(f'recall: {recall_score(test_labels, model.predict(test_data))}, {recall_score(test_labels, orig_model.predict(test_data))}')\n",
    "print(f'precision: {precision_score(test_labels, model.predict(test_data))}, {precision_score(test_labels, orig_model.predict(test_data))}')\n",
    "print(f'accuracy: {accuracy_score(test_labels, model.predict(test_data))}, {accuracy_score(test_labels, orig_model.predict(test_data))}')"
   ]
  },
  {
   "cell_type": "markdown",
   "metadata": {},
   "source": [
    "Реализуем SVM (метод опорных векторов):"
   ]
  },
  {
   "cell_type": "code",
   "execution_count": 31,
   "metadata": {},
   "outputs": [],
   "source": [
    "class SupportVectorMachine(BaseEstimator, ClassifierMixin):\n",
    "    def __init__(\n",
    "        self,  \n",
    "        lr: float = 1e-3,\n",
    "        C: float = 1.0,\n",
    "        max_iter: int = 100\n",
    "    ):\n",
    "        self.C = C\n",
    "        self.lr = lr\n",
    "        self.max_iter = max_iter\n",
    "\n",
    "    def fit(self, X, y):\n",
    "        self.X_, self.y_ = check_X_y(X, y)\n",
    "        self.labels = np.where(self.y_ == 0, -1, 1)\n",
    "        w = np.random.normal(size=(self.X_.shape[1], ))\n",
    "        b = 0.0\n",
    "        for _ in range(self.max_iter):\n",
    "            for i, obj in enumerate(self.X_):\n",
    "                if self.labels[i] * (obj @ w + b) >= 1:\n",
    "                    dw = w / self.C\n",
    "                    db = 0\n",
    "                else:\n",
    "                    dw = w / self.C - self.labels[i] * obj\n",
    "                    db = -self.labels[i]\n",
    "                w -= self.lr * dw\n",
    "                b -= self.lr * db\n",
    "        self.w = w\n",
    "        self.b = b\n",
    "        return self\n",
    "\n",
    "    def predict(self, X):\n",
    "        return np.where(\n",
    "            np.sign(np.dot(X, self.w) + self.b) == -1, 0, 1\n",
    "        )"
   ]
  },
  {
   "cell_type": "code",
   "execution_count": 32,
   "metadata": {},
   "outputs": [],
   "source": [
    "model = GridSearchCV(\n",
    "    refit=True,\n",
    "    scoring='accuracy',\n",
    "    verbose=3,\n",
    "    estimator=make_pipeline(\n",
    "        ColumnTransformer(transformers=[\n",
    "            ('categories', OneHotEncoder(sparse=False, handle_unknown='ignore'), [0, 4, 5, 6, 9]),\n",
    "            ('normalizer', StandardScaler(), [1, 7, 8])\n",
    "        ]),\n",
    "        SupportVectorMachine()\n",
    "    ),\n",
    "    param_grid={\n",
    "        'supportvectormachine__lr': [1e-04, 1e-03, 1e-02],\n",
    "        'supportvectormachine__C': [1e-1, 1.0, 10.0],\n",
    "        'supportvectormachine__max_iter': [100, 200],\n",
    "    },\n",
    "    n_jobs=-1,\n",
    ")\n",
    "orig_model = GridSearchCV(\n",
    "    refit=True,\n",
    "    scoring='accuracy',\n",
    "    verbose=3,\n",
    "    estimator=make_pipeline(\n",
    "        ColumnTransformer(transformers=[\n",
    "            ('categories', OneHotEncoder(sparse=False, handle_unknown='ignore'), [0, 4, 5, 6, 9]),\n",
    "            ('normalizer', StandardScaler(), [1, 7, 8])\n",
    "        ]),\n",
    "        SVC()\n",
    "    ),\n",
    "    param_grid={\n",
    "        \"svc__C\": [0.02, 0.1, 0.5],\n",
    "        \"svc__kernel\": [\"linear\", \"poly\", \"rbf\"],\n",
    "        \"svc__tol\": [1e-2, 5e-2],\n",
    "    },\n",
    "    n_jobs=-1,\n",
    ")"
   ]
  },
  {
   "cell_type": "code",
   "execution_count": 33,
   "metadata": {},
   "outputs": [
    {
     "name": "stdout",
     "output_type": "stream",
     "text": [
      "Fitting 5 folds for each of 18 candidates, totalling 90 fits\n"
     ]
    },
    {
     "data": {
      "text/plain": [
       "<sklearn.metrics._plot.confusion_matrix.ConfusionMatrixDisplay at 0x1e51f7e37f0>"
      ]
     },
     "execution_count": 33,
     "metadata": {},
     "output_type": "execute_result"
    },
    {
     "data": {
      "image/png": "[encoded data removed]",
      "text/plain": [
       "<Figure size 432x288 with 2 Axes>"
      ]
     },
     "metadata": {
      "needs_background": "light"
     },
     "output_type": "display_data"
    }
   ],
   "source": [
    "model.fit(train_data, train_labels)\n",
    "with open('svm_model.pkl', 'wb') as file:\n",
    "    pickle.dump(model.best_estimator_, file)\n",
    "plot_confusion_matrix(estimator=model, X=test_data, y_true=test_labels)"
   ]
  },
  {
   "cell_type": "code",
   "execution_count": 28,
   "metadata": {},
   "outputs": [
    {
     "name": "stdout",
     "output_type": "stream",
     "text": [
      "Fitting 5 folds for each of 18 candidates, totalling 90 fits\n"
     ]
    },
    {
     "data": {
      "text/plain": [
       "<sklearn.metrics._plot.confusion_matrix.ConfusionMatrixDisplay at 0x1e51f7e3d90>"
      ]
     },
     "execution_count": 28,
     "metadata": {},
     "output_type": "execute_result"
    },
    {
     "data": {
      "image/png": "[encoded data removed]",
      "text/plain": [
       "<Figure size 432x288 with 2 Axes>"
      ]
     },
     "metadata": {
      "needs_background": "light"
     },
     "output_type": "display_data"
    }
   ],
   "source": [
    "orig_model.fit(train_data, train_labels)\n",
    "plot_confusion_matrix(estimator=orig_model, X=test_data, y_true=test_labels)"
   ]
  },
  {
   "cell_type": "markdown",
   "metadata": {},
   "source": [
    "Реализуем Наивный Байес:"
   ]
  },
  {
   "cell_type": "code",
   "execution_count": null,
   "metadata": {},
   "outputs": [],
   "source": [
    "class NaiveBayes(BaseEstimator, ClassifierMixin):\n",
    "    def fit(self, X, y):\n",
    "        X, y = check_X_y(X, y)\n",
    "        self.unique_labels = np.unique(y)\n",
    "        self.X_, self.y_ = X, y\n",
    "        self.smooth = 1e-3 \n",
    "        self.X_depends_on_Y = {} \n",
    "        for label in self.unique_labels:\n",
    "            distributions = []\n",
    "            for i in range(X.shape[1]):\n",
    "                feature = X[y == label, i].flatten()\n",
    "                distributions.append(scipy.stats.norm(loc=feature.mean(), scale=(feature.std() + self.smooth)))\n",
    "            self.X_depends_on_Y[label] = distributions\n",
    "        self.Y_probs = {label: sum((y == label)).astype(float) / len(y) for label in self.unique_labels}\n",
    "    \n",
    "    def predict(self, X):\n",
    "        check_is_fitted(self)\n",
    "        X = check_array(X)\n",
    "        probs = np.zeros((X.shape[0], len(self.unique_labels)), dtype=float)\n",
    "        X_probs = np.ones((X.shape[0], len(self.unique_labels)), dtype=float)\n",
    "        for i, label in enumerate(self.unique_labels):\n",
    "            for j in range(X.shape[1]):\n",
    "                probs[:, i] += np.log(self.X_depends_on_Y[label][j].pdf(X[:, j]) + self.smooth)\n",
    "            probs[:, i] += np.log(self.Y_probs[label] + self.smooth)\n",
    "        return np.array(probs.argmax(axis=1))"
   ]
  },
  {
   "cell_type": "code",
   "execution_count": null,
   "metadata": {},
   "outputs": [],
   "source": [
    "model = GridSearchCV(\n",
    "    refit=True,\n",
    "    scoring='accuracy',\n",
    "    verbose=3,\n",
    "    estimator=make_pipeline(\n",
    "        ColumnTransformer(transformers=[\n",
    "            ('categories', OneHotEncoder(sparse=False, handle_unknown='ignore'), [0, 4, 5, 6, 9]),\n",
    "            ('normalizer', StandardScaler(), [1, 7, 8])\n",
    "        ]),\n",
    "        NaiveBayes()\n",
    "    ),\n",
    "    param_grid={},\n",
    "    n_jobs=-1,\n",
    ")"
   ]
  },
  {
   "cell_type": "code",
   "execution_count": null,
   "metadata": {},
   "outputs": [],
   "source": [
    "orig_model = GridSearchCV(\n",
    "    refit=True,\n",
    "    scoring='accuracy',\n",
    "    verbose=3,\n",
    "    estimator=make_pipeline(\n",
    "        ColumnTransformer(transformers=[\n",
    "            ('categories', OneHotEncoder(sparse=False, handle_unknown='ignore'), [0, 4, 5, 6, 9]),\n",
    "            ('normalizer', StandardScaler(), [1, 7, 8])\n",
    "        ]),\n",
    "        GaussianNB()\n",
    "    ),\n",
    "    param_grid={},\n",
    "    n_jobs=-1,    \n",
    ")"
   ]
  },
  {
   "cell_type": "code",
   "execution_count": null,
   "metadata": {},
   "outputs": [],
   "source": [
    "with open('logreg_model.pkl', 'rb') as file:\n",
    "    model.best_estimator_ = pickle.load(file)"
   ]
  },
  {
   "cell_type": "code",
   "execution_count": null,
   "metadata": {},
   "outputs": [
    {
     "name": "stdout",
     "output_type": "stream",
     "text": [
      "Fitting 5 folds for each of 1 candidates, totalling 5 fits\n"
     ]
    }
   ],
   "source": [
    "model.fit(train_data, train_labels)\n",
    "with open('bayes_model.pkl', 'wb') as file:\n",
    "    pickle.dump(model.best_estimator_, file)"
   ]
  },
  {
   "cell_type": "code",
   "execution_count": null,
   "metadata": {},
   "outputs": [
    {
     "data": {
      "text/plain": [
       "<sklearn.metrics._plot.confusion_matrix.ConfusionMatrixDisplay at 0x27eda12a620>"
      ]
     },
     "execution_count": 131,
     "metadata": {},
     "output_type": "execute_result"
    },
    {
     "data": {
      "image/png": "[encoded data removed]",
      "text/plain": [
       "<Figure size 432x288 with 2 Axes>"
      ]
     },
     "metadata": {
      "needs_background": "light"
     },
     "output_type": "display_data"
    }
   ],
   "source": [
    "plot_confusion_matrix(estimator=model, X=test_data, y_true=test_labels)"
   ]
  },
  {
   "cell_type": "code",
   "execution_count": null,
   "metadata": {},
   "outputs": [
    {
     "name": "stdout",
     "output_type": "stream",
     "text": [
      "Fitting 5 folds for each of 1 candidates, totalling 5 fits\n"
     ]
    },
    {
     "data": {
      "text/plain": [
       "<sklearn.metrics._plot.confusion_matrix.ConfusionMatrixDisplay at 0x27eda1ee0b0>"
      ]
     },
     "execution_count": 133,
     "metadata": {},
     "output_type": "execute_result"
    },
    {
     "data": {
      "image/png": "[encoded data removed]",
      "text/plain": [
       "<Figure size 432x288 with 2 Axes>"
      ]
     },
     "metadata": {
      "needs_background": "light"
     },
     "output_type": "display_data"
    }
   ],
   "source": [
    "orig_model.fit(train_data, train_labels)\n",
    "plot_confusion_matrix(estimator=orig_model, X=test_data, y_true=test_labels)"
   ]
  },
  {
   "cell_type": "code",
   "execution_count": null,
   "metadata": {},
   "outputs": [
    {
     "name": "stdout",
     "output_type": "stream",
     "text": [
      "recall: 1.0, 1.0\n",
      "precision: 0.09408194233687406, 0.08423913043478261\n",
      "accuracy: 0.4158512720156556, 0.3405088062622309\n"
     ]
    }
   ],
   "source": [
    "print(f'recall: {recall_score(test_labels, model.predict(test_data))}, {recall_score(test_labels, orig_model.predict(test_data))}')\n",
    "print(f'precision: {precision_score(test_labels, model.predict(test_data))}, {precision_score(test_labels, orig_model.predict(test_data))}')\n",
    "print(f'accuracy: {accuracy_score(test_labels, model.predict(test_data))}, {accuracy_score(test_labels, orig_model.predict(test_data))}')"
   ]
  },
  {
   "cell_type": "markdown",
   "metadata": {},
   "source": [
    "Алгоритм К-ближайших соседей:"
   ]
  },
  {
   "cell_type": "code",
   "execution_count": 17,
   "metadata": {},
   "outputs": [],
   "source": [
    "class KNearestNeighbours(BaseEstimator, ClassifierMixin):\n",
    "    def __init__(self,  \n",
    "                 nearest: int = 5,\n",
    "                 is_uniform: bool = True):\n",
    "        self.nearest = nearest\n",
    "        self.is_uniform = is_uniform\n",
    "        self.EPS = 1e-08\n",
    "\n",
    "    def fit(self, X, y):\n",
    "         self.X_, self.y_ = check_X_y(X, y)\n",
    "         self.unique_labels = np.unique(self.y_)\n",
    "         return self\n",
    "\n",
    "    def get_pred(self, nearest):\n",
    "        preds = np.zeros(len(self.unique_labels))\n",
    "        for d, i in nearest:\n",
    "            preds[i] += 1.0 / (d + self.EPS) if not self.is_uniform else 1.0\n",
    "        return np.argmax(preds)\n",
    "\n",
    "    def predict(self, X):\n",
    "        check_is_fitted(self)\n",
    "        X = check_array(X)\n",
    "        preds = []\n",
    "        for x in X:\n",
    "            ds = []\n",
    "            for i, v in enumerate(self.X_):\n",
    "                d = np.linalg.norm(x - v)\n",
    "                ds.append((d, self.y_[i]))\n",
    "            ds.sort()\n",
    "            nearest = ds[: self.nearest]\n",
    "            preds.append(self.get_pred(nearest))\n",
    "        return np.array(preds, dtype=int)"
   ]
  },
  {
   "cell_type": "code",
   "execution_count": 18,
   "metadata": {},
   "outputs": [],
   "source": [
    "model = GridSearchCV(\n",
    "    refit=True,\n",
    "    scoring='accuracy',\n",
    "    verbose=3,\n",
    "    estimator=make_pipeline(\n",
    "        ColumnTransformer(transformers=[\n",
    "            ('categories', OneHotEncoder(sparse=False, handle_unknown='ignore'), [0, 4, 5, 6, 9]),\n",
    "            ('normalizer', StandardScaler(), [1, 7, 8])\n",
    "        ]),\n",
    "        KNearestNeighbours()\n",
    "    ),\n",
    "    param_grid={\n",
    "        'knearestneighbours__nearest': [3, 4, 5, 8],\n",
    "        'knearestneighbours__is_uniform': [False, True],\n",
    "    },\n",
    "    n_jobs=-1,\n",
    ")\n",
    "orig_model = GridSearchCV(\n",
    "    refit=True,\n",
    "    scoring='accuracy',\n",
    "    verbose=3,\n",
    "    estimator=make_pipeline(\n",
    "        ColumnTransformer(transformers=[\n",
    "            ('categories', OneHotEncoder(sparse=False, handle_unknown='ignore'), [0, 4, 5, 6, 9]),\n",
    "            ('normalizer', StandardScaler(), [1, 7, 8])\n",
    "        ]),\n",
    "        KNeighborsClassifier()\n",
    "    ),\n",
    "    param_grid={\n",
    "        'kneighborsclassifier__n_neighbors': [3, 4, 5, 8],\n",
    "        'kneighborsclassifier__weights': ['uniform', 'distance'],\n",
    "    },\n",
    "    n_jobs=-1,\n",
    ")"
   ]
  },
  {
   "cell_type": "code",
   "execution_count": 19,
   "metadata": {},
   "outputs": [
    {
     "name": "stdout",
     "output_type": "stream",
     "text": [
      "Fitting 5 folds for each of 8 candidates, totalling 40 fits\n"
     ]
    },
    {
     "data": {
      "text/plain": [
       "<sklearn.metrics._plot.confusion_matrix.ConfusionMatrixDisplay at 0x1e51f6f8cd0>"
      ]
     },
     "execution_count": 19,
     "metadata": {},
     "output_type": "execute_result"
    },
    {
     "data": {
      "image/png": "[encoded data removed]",
      "text/plain": [
       "<Figure size 432x288 with 2 Axes>"
      ]
     },
     "metadata": {
      "needs_background": "light"
     },
     "output_type": "display_data"
    }
   ],
   "source": [
    "model.fit(train_data, train_labels)\n",
    "with open('knn_model.pkl', 'wb') as file:\n",
    "    pickle.dump(model.best_estimator_, file)\n",
    "plot_confusion_matrix(estimator=model, X=test_data, y_true=test_labels)"
   ]
  },
  {
   "cell_type": "code",
   "execution_count": 20,
   "metadata": {},
   "outputs": [
    {
     "name": "stdout",
     "output_type": "stream",
     "text": [
      "Fitting 5 folds for each of 8 candidates, totalling 40 fits\n"
     ]
    },
    {
     "data": {
      "text/plain": [
       "<sklearn.metrics._plot.confusion_matrix.ConfusionMatrixDisplay at 0x1e5209036d0>"
      ]
     },
     "execution_count": 20,
     "metadata": {},
     "output_type": "execute_result"
    },
    {
     "data": {
      "image/png": "[encoded data removed]",
      "text/plain": [
       "<Figure size 432x288 with 2 Axes>"
      ]
     },
     "metadata": {
      "needs_background": "light"
     },
     "output_type": "display_data"
    }
   ],
   "source": [
    "orig_model.fit(train_data, train_labels)\n",
    "plot_confusion_matrix(estimator=orig_model, X=test_data, y_true=test_labels)"
   ]
  },
  {
   "cell_type": "code",
   "execution_count": 21,
   "metadata": {},
   "outputs": [
    {
     "name": "stdout",
     "output_type": "stream",
     "text": [
      "recall: 0.08064516129032258, 0.08064516129032258\n",
      "precision: 0.15151515151515152, 0.15151515151515152\n",
      "accuracy: 0.9168297455968689, 0.9168297455968689\n"
     ]
    }
   ],
   "source": [
    "print(f'recall: {recall_score(test_labels, model.predict(test_data))}, {recall_score(test_labels, orig_model.predict(test_data))}')\n",
    "print(f'precision: {precision_score(test_labels, model.predict(test_data))}, {precision_score(test_labels, orig_model.predict(test_data))}')\n",
    "print(f'accuracy: {accuracy_score(test_labels, model.predict(test_data))}, {accuracy_score(test_labels, orig_model.predict(test_data))}')"
   ]
  }
 ],
 "metadata": {
  "interpreter": {
   "hash": "9f87136cf20d9a1fc09f929f81501e46b3afbc307a1e4cedb006db2eb370a91c"
  },
  "kernelspec": {
   "display_name": "Python 3.10.0 64-bit",
   "language": "python",
   "name": "python3"
  },
  "language_info": {
   "codemirror_mode": {
    "name": "ipython",
    "version": 3
   },
   "file_extension": ".py",
   "mimetype": "text/x-python",
   "name": "python",
   "nbconvert_exporter": "python",
   "pygments_lexer": "ipython3",
   "version": "3.10.0"
  },
  "orig_nbformat": 4
 },
 "nbformat": 4,
 "nbformat_minor": 2
}
